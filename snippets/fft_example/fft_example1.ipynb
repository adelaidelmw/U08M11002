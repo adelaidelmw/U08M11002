{
 "cells": [
  {
   "cell_type": "code",
   "execution_count": null,
   "metadata": {},
   "outputs": [],
   "source": [
    "import numpy as np\n",
    "\n",
    "# read npy file\n",
    "a32 = np.load('array32.npy')\n",
    "a22 = np.load('test.npy')\n",
    "\n",
    "# see the difference between the two\n",
    "adiff = a32 - a22"
   ]
  },
  {
   "cell_type": "code",
   "execution_count": null,
   "metadata": {},
   "outputs": [],
   "source": [
    "total_sum = adiff.sum()\n",
    "print(total_sum)"
   ]
  },
  {
   "cell_type": "code",
   "execution_count": null,
   "metadata": {},
   "outputs": [],
   "source": [
    "import matplotlib.pyplot as plt\n",
    "from matplotlib import rcParams as mpl_param\n",
    "\n",
    "mpl_param[\"figure.dpi\"] = 200\n",
    "# plot the first band of a32 using imshow\n",
    "plt.imshow(a22[1,:,:], cmap='jet')\n"
   ]
  },
  {
   "cell_type": "code",
   "execution_count": null,
   "metadata": {},
   "outputs": [],
   "source": [
    "# show me an example of a high frequency music and then calculate the spectrum.\n"
   ]
  }
 ],
 "metadata": {
  "kernelspec": {
   "display_name": "insar",
   "language": "python",
   "name": "python3"
  },
  "language_info": {
   "codemirror_mode": {
    "name": "ipython",
    "version": 3
   },
   "file_extension": ".py",
   "mimetype": "text/x-python",
   "name": "python",
   "nbconvert_exporter": "python",
   "pygments_lexer": "ipython3",
   "version": "3.10.13"
  }
 },
 "nbformat": 4,
 "nbformat_minor": 2
}
